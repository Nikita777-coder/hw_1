{
  "nbformat": 4,
  "nbformat_minor": 0,
  "metadata": {
    "colab": {
      "name": "задания_модуль1.ipynb",
      "provenance": [],
      "include_colab_link": true
    },
    "kernelspec": {
      "name": "python3",
      "display_name": "Python 3"
    },
    "language_info": {
      "name": "python",
      "version": "3.7.7",
      "mimetype": "text/x-python",
      "codemirror_mode": {
        "name": "ipython",
        "version": 3
      },
      "pygments_lexer": "ipython3",
      "nbconvert_exporter": "python",
      "file_extension": ".py"
    },
    "nteract": {
      "version": "0.23.3"
    }
  },
  "cells": [
    {
      "cell_type": "markdown",
      "metadata": {
        "id": "view-in-github",
        "colab_type": "text"
      },
      "source": [
        "<a href=\"https://colab.research.google.com/github/Nikita777-coder/hw_1/blob/master/%D0%B7%D0%B0%D0%B4%D0%B0%D0%BD%D0%B8%D1%8F_%D0%BC%D0%BE%D0%B4%D1%83%D0%BB%D1%8C1.ipynb\" target=\"_parent\"><img src=\"https://colab.research.google.com/assets/colab-badge.svg\" alt=\"Open In Colab\"/></a>"
      ]
    },
    {
      "cell_type": "markdown",
      "metadata": {
        "nteract": {
          "transient": {
            "deleting": false
          }
        },
        "id": "rbNYXOjcCaAf",
        "colab_type": "text"
      },
      "source": [
        "# Важно!\n",
        "Придерживайтесь эталонного вывода в коде каждого задания, чтобы избежать расхождений в трактовках условий задания."
      ]
    },
    {
      "cell_type": "markdown",
      "metadata": {
        "id": "AcA1aOz_tMep",
        "colab_type": "text"
      },
      "source": [
        "## Задача 1\n",
        "\n",
        "Создать переменную a = 10, возвести значение в 3 степень и найти остаток от деления на 3."
      ]
    },
    {
      "cell_type": "code",
      "metadata": {
        "id": "TiGS6kFKtIFQ",
        "colab_type": "code",
        "execution": {
          "iopub.status.busy": "2020-06-02T07:44:18.628Z",
          "iopub.execute_input": "2020-06-02T07:44:18.632Z",
          "iopub.status.idle": "2020-06-02T07:44:18.642Z",
          "shell.execute_reply": "2020-06-02T07:44:18.646Z"
        },
        "colab": {}
      },
      "source": [
        ""
      ],
      "execution_count": 0,
      "outputs": []
    },
    {
      "cell_type": "markdown",
      "metadata": {
        "id": "PbqrQxjKtNNj",
        "colab_type": "text"
      },
      "source": [
        "## Задача 2\n",
        "\n",
        "Найдите площадь круга с радиусом 1.23456.\n",
        "\n",
        "(Считаем π = 3.14)"
      ]
    },
    {
      "cell_type": "code",
      "metadata": {
        "id": "4PaFmY3FtNVz",
        "colab_type": "code",
        "execution": {
          "iopub.status.busy": "2020-06-02T07:44:36.480Z",
          "iopub.execute_input": "2020-06-02T07:44:36.483Z",
          "iopub.status.idle": "2020-06-02T07:44:36.489Z",
          "shell.execute_reply": "2020-06-02T07:44:36.491Z"
        },
        "colab": {}
      },
      "source": [
        ""
      ],
      "execution_count": 0,
      "outputs": []
    },
    {
      "cell_type": "markdown",
      "metadata": {
        "id": "JpGOohPWtNch",
        "colab_type": "text"
      },
      "source": [
        "## Задача 3\n",
        "\n",
        "Найдите, истинно ли, что 2 в 10 степени больше 1000 при условии, что 4 в 7й степени меньше 8 в 5й.\n",
        "\n"
      ]
    },
    {
      "cell_type": "code",
      "metadata": {
        "id": "tUOVzpHrtNjT",
        "colab_type": "code",
        "execution": {
          "iopub.status.busy": "2020-06-02T07:45:38.841Z",
          "iopub.execute_input": "2020-06-02T07:45:38.843Z",
          "iopub.status.idle": "2020-06-02T07:45:38.852Z",
          "shell.execute_reply": "2020-06-02T07:45:38.855Z"
        },
        "colab": {}
      },
      "source": [
        ""
      ],
      "execution_count": 0,
      "outputs": []
    },
    {
      "cell_type": "markdown",
      "metadata": {
        "id": "8xTeQJz4tNqM",
        "colab_type": "text"
      },
      "source": [
        "## Задача 4\n",
        "\n",
        "Мы принимаем целое число на ввод с клавиатуры (код предоставлен), вывести \"цена выше рынка\", если число выше 1200, \"цена ниже рыночной\", если число меньше 800 и \"все ок\" в остальных случаях.\n",
        "\n",
        "price = int(input('Введите цену товара: '))"
      ]
    },
    {
      "cell_type": "code",
      "metadata": {
        "id": "jmE7VLuItNwz",
        "colab_type": "code",
        "execution": {
          "iopub.status.busy": "2020-06-02T07:50:24.206Z",
          "iopub.execute_input": "2020-06-02T07:50:24.208Z",
          "iopub.status.idle": "2020-06-02T07:50:31.739Z",
          "shell.execute_reply": "2020-06-02T07:50:31.747Z"
        },
        "colab": {}
      },
      "source": [
        "# желательно не использовать такой метод в практических задачах\n",
        "price = int(input('Введите цену товара: '))\n",
        "\n"
      ],
      "execution_count": 0,
      "outputs": []
    },
    {
      "cell_type": "markdown",
      "metadata": {
        "id": "OoBU8ZITtN2o",
        "colab_type": "text"
      },
      "source": [
        "## Задача 5\n",
        "\n",
        "Распечатайте с 4 по 8 символ фразы \"Привет мир!\" приведенные к верхнему регистру.\n",
        "\n",
        "Отсчет c 0, пробел тоже символ *\n"
      ]
    },
    {
      "cell_type": "code",
      "metadata": {
        "id": "1x7gxVH-tN8x",
        "colab_type": "code",
        "execution": {
          "iopub.status.busy": "2020-06-02T07:48:13.749Z",
          "iopub.execute_input": "2020-06-02T07:48:13.752Z",
          "iopub.status.idle": "2020-06-02T07:48:13.757Z",
          "shell.execute_reply": "2020-06-02T07:48:13.759Z"
        },
        "colab": {}
      },
      "source": [
        ""
      ],
      "execution_count": 0,
      "outputs": []
    },
    {
      "cell_type": "markdown",
      "metadata": {
        "id": "vKmTHQYatOD_",
        "colab_type": "text"
      },
      "source": [
        "## Задача 6\n",
        "\n",
        "Создайте переменную, которая хранит описание этой задачи как строку, разделите слова по пробелам и приведите к нижнему регистру."
      ]
    },
    {
      "cell_type": "code",
      "metadata": {
        "id": "JQRE7KPJtOJ9",
        "colab_type": "code",
        "execution": {
          "iopub.status.busy": "2020-06-02T07:51:00.723Z",
          "iopub.execute_input": "2020-06-02T07:51:00.727Z",
          "iopub.status.idle": "2020-06-02T07:51:00.733Z",
          "shell.execute_reply": "2020-06-02T07:51:00.735Z"
        },
        "colab": {}
      },
      "source": [
        ""
      ],
      "execution_count": 0,
      "outputs": []
    },
    {
      "cell_type": "markdown",
      "metadata": {
        "id": "hd1iSZtNtank",
        "colab_type": "text"
      },
      "source": [
        "## Задание 7\n",
        "\n",
        "Напишите код, который проверяет, является ли переменная x строкой, и если да, то если в строке больше одного слова (слово--последовательность подряд идущих символов без пробелов), то выводит на экран количество слов в этой строке и сами слова в алфавитном порядке.\n",
        "\n",
        "Подсказка:\n",
        "Метод .sort() подходит и для сортировки слов"
      ]
    },
    {
      "cell_type": "code",
      "metadata": {
        "id": "-X9fE0hctaug",
        "colab_type": "code",
        "execution": {
          "iopub.status.busy": "2020-06-02T07:51:47.139Z",
          "iopub.execute_input": "2020-06-02T07:51:47.142Z",
          "iopub.status.idle": "2020-06-02T07:51:47.149Z",
          "shell.execute_reply": "2020-06-02T07:51:47.151Z"
        },
        "colab": {}
      },
      "source": [
        "x = 'z hello world'\n",
        "\n",
        "# ваш код тут"
      ],
      "execution_count": 0,
      "outputs": []
    },
    {
      "cell_type": "markdown",
      "metadata": {
        "id": "PL2Hcn1Hta2F",
        "colab_type": "text"
      },
      "source": [
        "## Задание 8\n",
        "\n",
        "Напишите код, который все элементы массива x с **нечетными** индексами переставит в обратном порядке.\n",
        "\n",
        "Т.е. если x = [0, 1, 2, 3, 4, 5, 6, 7, 8, 9], то код должен получать [0, 9, 2, 7, 4, 5, 6, 3, 8, 1]"
      ]
    },
    {
      "cell_type": "code",
      "metadata": {
        "id": "4trHl8jvta88",
        "colab_type": "code",
        "execution": {
          "iopub.status.busy": "2020-06-02T07:52:17.293Z",
          "iopub.execute_input": "2020-06-02T07:52:17.297Z",
          "iopub.status.idle": "2020-06-02T07:52:17.303Z",
          "shell.execute_reply": "2020-06-02T07:52:17.306Z"
        },
        "colab": {}
      },
      "source": [
        "x = [0, 1, 2, 3, 4, 5, 6, 7, 8, 9]\n"
      ],
      "execution_count": 0,
      "outputs": []
    },
    {
      "cell_type": "markdown",
      "metadata": {
        "id": "kd-omME5tbDh",
        "colab_type": "text"
      },
      "source": [
        "## Задание 9\n",
        "\n",
        "Напишите цикл, который выводит все числа от 0 до 500, делящиеся на 7, если в них есть цифра 8.\n",
        "\n",
        "*Подсказка*: переменную типа int можно привести к типу str:\n",
        "```\n",
        "x = 5\n",
        "y = str(x)\n",
        "```"
      ]
    },
    {
      "cell_type": "code",
      "metadata": {
        "id": "FJm8xpcYtbJm",
        "colab_type": "code",
        "execution": {
          "iopub.status.busy": "2020-06-02T07:52:35.812Z",
          "iopub.execute_input": "2020-06-02T07:52:35.814Z",
          "iopub.status.idle": "2020-06-02T07:52:35.821Z",
          "shell.execute_reply": "2020-06-02T07:52:35.824Z"
        },
        "colab": {}
      },
      "source": [
        ""
      ],
      "execution_count": 0,
      "outputs": []
    },
    {
      "cell_type": "code",
      "metadata": {
        "jupyter": {
          "source_hidden": false,
          "outputs_hidden": false
        },
        "nteract": {
          "transient": {
            "deleting": false
          }
        },
        "id": "VT6gpiOgCaBY",
        "colab_type": "code",
        "colab": {}
      },
      "source": [
        ""
      ],
      "execution_count": 0,
      "outputs": []
    }
  ]
}